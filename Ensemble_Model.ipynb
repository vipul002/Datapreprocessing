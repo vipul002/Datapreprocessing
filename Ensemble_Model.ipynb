{
  "cells": [
    {
      "cell_type": "code",
      "execution_count": null,
      "metadata": {
        "id": "NjQJEbtLGBH8"
      },
      "outputs": [],
      "source": []
    },
    {
      "cell_type": "markdown",
      "metadata": {
        "id": "Ee-OEIC93UyW"
      },
      "source": [
        "# **⭐ Ensemble Model**"
      ]
    },
    {
      "cell_type": "code",
      "execution_count": 1,
      "metadata": {
        "id": "86IYmsXsDof4"
      },
      "outputs": [],
      "source": [
        "import pandas as pd\n",
        "import numpy as np\n",
        "import matplotlib.pyplot as plt\n",
        "import seaborn as sns"
      ]
    },
    {
      "cell_type": "code",
      "execution_count": 2,
      "metadata": {
        "id": "2r2pZNOGDpat"
      },
      "outputs": [],
      "source": [
        "df = pd.read_csv('https://github.com/ybifoundation/Dataset/raw/main/Boston.csv')"
      ]
    },
    {
      "cell_type": "code",
      "execution_count": 3,
      "metadata": {
        "colab": {
          "base_uri": "https://localhost:8080/",
          "height": 206
        },
        "id": "nYcUArHNDpdV",
        "outputId": "5fe55373-7331-4ebe-e0c7-d59fcbe7f6ad"
      },
      "outputs": [
        {
          "data": {
            "text/html": [
              "<div>\n",
              "<style scoped>\n",
              "    .dataframe tbody tr th:only-of-type {\n",
              "        vertical-align: middle;\n",
              "    }\n",
              "\n",
              "    .dataframe tbody tr th {\n",
              "        vertical-align: top;\n",
              "    }\n",
              "\n",
              "    .dataframe thead th {\n",
              "        text-align: right;\n",
              "    }\n",
              "</style>\n",
              "<table border=\"1\" class=\"dataframe\">\n",
              "  <thead>\n",
              "    <tr style=\"text-align: right;\">\n",
              "      <th></th>\n",
              "      <th>CRIM</th>\n",
              "      <th>ZN</th>\n",
              "      <th>INDUS</th>\n",
              "      <th>CHAS</th>\n",
              "      <th>NX</th>\n",
              "      <th>RM</th>\n",
              "      <th>AGE</th>\n",
              "      <th>DIS</th>\n",
              "      <th>RAD</th>\n",
              "      <th>TAX</th>\n",
              "      <th>PTRATIO</th>\n",
              "      <th>B</th>\n",
              "      <th>LSTAT</th>\n",
              "      <th>MEDV</th>\n",
              "    </tr>\n",
              "  </thead>\n",
              "  <tbody>\n",
              "    <tr>\n",
              "      <th>0</th>\n",
              "      <td>0.00632</td>\n",
              "      <td>18.0</td>\n",
              "      <td>2.31</td>\n",
              "      <td>0</td>\n",
              "      <td>0.538</td>\n",
              "      <td>6.575</td>\n",
              "      <td>65.2</td>\n",
              "      <td>4.0900</td>\n",
              "      <td>1</td>\n",
              "      <td>296.0</td>\n",
              "      <td>15.3</td>\n",
              "      <td>396.90</td>\n",
              "      <td>4.98</td>\n",
              "      <td>24.0</td>\n",
              "    </tr>\n",
              "    <tr>\n",
              "      <th>1</th>\n",
              "      <td>0.02731</td>\n",
              "      <td>0.0</td>\n",
              "      <td>7.07</td>\n",
              "      <td>0</td>\n",
              "      <td>0.469</td>\n",
              "      <td>6.421</td>\n",
              "      <td>78.9</td>\n",
              "      <td>4.9671</td>\n",
              "      <td>2</td>\n",
              "      <td>242.0</td>\n",
              "      <td>17.8</td>\n",
              "      <td>396.90</td>\n",
              "      <td>9.14</td>\n",
              "      <td>21.6</td>\n",
              "    </tr>\n",
              "    <tr>\n",
              "      <th>2</th>\n",
              "      <td>0.02729</td>\n",
              "      <td>0.0</td>\n",
              "      <td>7.07</td>\n",
              "      <td>0</td>\n",
              "      <td>0.469</td>\n",
              "      <td>7.185</td>\n",
              "      <td>61.1</td>\n",
              "      <td>4.9671</td>\n",
              "      <td>2</td>\n",
              "      <td>242.0</td>\n",
              "      <td>17.8</td>\n",
              "      <td>392.83</td>\n",
              "      <td>4.03</td>\n",
              "      <td>34.7</td>\n",
              "    </tr>\n",
              "    <tr>\n",
              "      <th>3</th>\n",
              "      <td>0.03237</td>\n",
              "      <td>0.0</td>\n",
              "      <td>2.18</td>\n",
              "      <td>0</td>\n",
              "      <td>0.458</td>\n",
              "      <td>6.998</td>\n",
              "      <td>45.8</td>\n",
              "      <td>6.0622</td>\n",
              "      <td>3</td>\n",
              "      <td>222.0</td>\n",
              "      <td>18.7</td>\n",
              "      <td>394.63</td>\n",
              "      <td>2.94</td>\n",
              "      <td>33.4</td>\n",
              "    </tr>\n",
              "    <tr>\n",
              "      <th>4</th>\n",
              "      <td>0.06905</td>\n",
              "      <td>0.0</td>\n",
              "      <td>2.18</td>\n",
              "      <td>0</td>\n",
              "      <td>0.458</td>\n",
              "      <td>7.147</td>\n",
              "      <td>54.2</td>\n",
              "      <td>6.0622</td>\n",
              "      <td>3</td>\n",
              "      <td>222.0</td>\n",
              "      <td>18.7</td>\n",
              "      <td>396.90</td>\n",
              "      <td>5.33</td>\n",
              "      <td>36.2</td>\n",
              "    </tr>\n",
              "  </tbody>\n",
              "</table>\n",
              "</div>"
            ],
            "text/plain": [
              "      CRIM    ZN  INDUS  CHAS     NX     RM   AGE     DIS  RAD    TAX  \\\n",
              "0  0.00632  18.0   2.31     0  0.538  6.575  65.2  4.0900    1  296.0   \n",
              "1  0.02731   0.0   7.07     0  0.469  6.421  78.9  4.9671    2  242.0   \n",
              "2  0.02729   0.0   7.07     0  0.469  7.185  61.1  4.9671    2  242.0   \n",
              "3  0.03237   0.0   2.18     0  0.458  6.998  45.8  6.0622    3  222.0   \n",
              "4  0.06905   0.0   2.18     0  0.458  7.147  54.2  6.0622    3  222.0   \n",
              "\n",
              "   PTRATIO       B  LSTAT  MEDV  \n",
              "0     15.3  396.90   4.98  24.0  \n",
              "1     17.8  396.90   9.14  21.6  \n",
              "2     17.8  392.83   4.03  34.7  \n",
              "3     18.7  394.63   2.94  33.4  \n",
              "4     18.7  396.90   5.33  36.2  "
            ]
          },
          "execution_count": 3,
          "metadata": {},
          "output_type": "execute_result"
        }
      ],
      "source": [
        "df.head()"
      ]
    },
    {
      "cell_type": "code",
      "execution_count": 4,
      "metadata": {
        "id": "U-E-hO8fDpgN"
      },
      "outputs": [],
      "source": [
        "y = df['MEDV']"
      ]
    },
    {
      "cell_type": "code",
      "execution_count": 5,
      "metadata": {
        "id": "L9SGBH-VDpjT"
      },
      "outputs": [],
      "source": [
        "X = df.drop('MEDV', axis=1)"
      ]
    },
    {
      "cell_type": "code",
      "execution_count": 6,
      "metadata": {
        "id": "RWRbh87vDpmY"
      },
      "outputs": [],
      "source": [
        "from sklearn.model_selection import train_test_split"
      ]
    },
    {
      "cell_type": "code",
      "execution_count": 7,
      "metadata": {
        "id": "uYZe2zfiD3yc"
      },
      "outputs": [],
      "source": [
        "X_train,X_test,y_train,y_test=train_test_split(X,y,random_state=2529)"
      ]
    },
    {
      "cell_type": "markdown",
      "metadata": {
        "id": "g5BpIVwVDfip"
      },
      "source": [
        "## **Decision Tree**"
      ]
    },
    {
      "cell_type": "code",
      "execution_count": 8,
      "metadata": {
        "id": "fHZJygkjD31b"
      },
      "outputs": [],
      "source": [
        "from sklearn.tree import DecisionTreeRegressor, plot_tree\n",
        "from sklearn.metrics import mean_absolute_percentage_error\n",
        "from sklearn.model_selection import GridSearchCV\n",
        "from sklearn.model_selection import RandomizedSearchCV"
      ]
    },
    {
      "cell_type": "code",
      "execution_count": 9,
      "metadata": {
        "id": "mEm4GP9RRpuC"
      },
      "outputs": [],
      "source": [
        "dtr=DecisionTreeRegressor()"
      ]
    },
    {
      "cell_type": "code",
      "execution_count": 10,
      "metadata": {
        "colab": {
          "base_uri": "https://localhost:8080/"
        },
        "id": "A6Lo4nw3D34H",
        "outputId": "bde4b2a8-9818-45f0-8797-9fb47cb484e9"
      },
      "outputs": [
        {
          "data": {
            "text/plain": [
              "DecisionTreeRegressor()"
            ]
          },
          "execution_count": 10,
          "metadata": {},
          "output_type": "execute_result"
        }
      ],
      "source": [
        "dtr.fit(X_train,y_train)"
      ]
    },
    {
      "cell_type": "code",
      "execution_count": 11,
      "metadata": {
        "id": "HGceuwX2D37R"
      },
      "outputs": [],
      "source": [
        "y_pred=dtr.predict(X_test)"
      ]
    },
    {
      "cell_type": "code",
      "execution_count": 12,
      "metadata": {
        "colab": {
          "base_uri": "https://localhost:8080/"
        },
        "id": "zJmVglltD4DR",
        "outputId": "a6f652a7-47f9-4435-d6fe-9cb9c201e1c0"
      },
      "outputs": [
        {
          "data": {
            "text/plain": [
              "0.14432554247642204"
            ]
          },
          "execution_count": 12,
          "metadata": {},
          "output_type": "execute_result"
        }
      ],
      "source": [
        "mean_absolute_percentage_error(y_test,y_pred)"
      ]
    },
    {
      "cell_type": "code",
      "execution_count": 13,
      "metadata": {
        "colab": {
          "base_uri": "https://localhost:8080/",
          "height": 575
        },
        "id": "Ae2py4YQEn5f",
        "outputId": "f198128c-d3ab-4b79-a7af-b2fc5089e7e1"
      },
      "outputs": [
        {
          "data": {
            "image/png": "[encoded data removed]",
            "text/plain": [
              "<Figure size 1000x1000 with 1 Axes>"
            ]
          },
          "metadata": {},
          "output_type": "display_data"
        }
      ],
      "source": [
        "fig, ax = plt.subplots(figsize=(10, 10)) \n",
        "plot_tree(dtr,feature_names=X.columns);"
      ]
    },
    {
      "cell_type": "code",
      "execution_count": 14,
      "metadata": {
        "id": "Q_C26eZHEoAV"
      },
      "outputs": [],
      "source": [
        "params = {'max_depth':[1,5,10,15,20,25]}"
      ]
    },
    {
      "cell_type": "code",
      "execution_count": 15,
      "metadata": {
        "id": "hOa1ebp8EoEW"
      },
      "outputs": [],
      "source": [
        "gs_dtr = GridSearchCV(estimator=dtr, param_grid=params, cv=5, scoring='neg_mean_squared_error',return_train_score=True, verbose=1)"
      ]
    },
    {
      "cell_type": "code",
      "execution_count": 16,
      "metadata": {
        "colab": {
          "base_uri": "https://localhost:8080/"
        },
        "id": "6FvlcGvSIRWg",
        "outputId": "5e729128-f1e2-4ba8-c74d-190fa3782bfb"
      },
      "outputs": [
        {
          "name": "stdout",
          "output_type": "stream",
          "text": [
            "Fitting 5 folds for each of 6 candidates, totalling 30 fits\n"
          ]
        },
        {
          "data": {
            "text/plain": [
              "GridSearchCV(cv=5, estimator=DecisionTreeRegressor(),\n",
              "             param_grid={'max_depth': [1, 5, 10, 15, 20, 25]},\n",
              "             return_train_score=True, scoring='neg_mean_squared_error',\n",
              "             verbose=1)"
            ]
          },
          "execution_count": 16,
          "metadata": {},
          "output_type": "execute_result"
        }
      ],
      "source": [
        "gs_dtr.fit(X_train,y_train)"
      ]
    },
    {
      "cell_type": "code",
      "execution_count": 17,
      "metadata": {
        "colab": {
          "base_uri": "https://localhost:8080/",
          "height": 435
        },
        "id": "l9IPrMpGEoHv",
        "outputId": "609bd2f5-a7af-4855-a642-8f06f807d70f"
      },
      "outputs": [
        {
          "data": {
            "text/html": [
              "<div>\n",
              "<style scoped>\n",
              "    .dataframe tbody tr th:only-of-type {\n",
              "        vertical-align: middle;\n",
              "    }\n",
              "\n",
              "    .dataframe tbody tr th {\n",
              "        vertical-align: top;\n",
              "    }\n",
              "\n",
              "    .dataframe thead th {\n",
              "        text-align: right;\n",
              "    }\n",
              "</style>\n",
              "<table border=\"1\" class=\"dataframe\">\n",
              "  <thead>\n",
              "    <tr style=\"text-align: right;\">\n",
              "      <th></th>\n",
              "      <th>mean_fit_time</th>\n",
              "      <th>std_fit_time</th>\n",
              "      <th>mean_score_time</th>\n",
              "      <th>std_score_time</th>\n",
              "      <th>param_max_depth</th>\n",
              "      <th>params</th>\n",
              "      <th>split0_test_score</th>\n",
              "      <th>split1_test_score</th>\n",
              "      <th>split2_test_score</th>\n",
              "      <th>split3_test_score</th>\n",
              "      <th>...</th>\n",
              "      <th>mean_test_score</th>\n",
              "      <th>std_test_score</th>\n",
              "      <th>rank_test_score</th>\n",
              "      <th>split0_train_score</th>\n",
              "      <th>split1_train_score</th>\n",
              "      <th>split2_train_score</th>\n",
              "      <th>split3_train_score</th>\n",
              "      <th>split4_train_score</th>\n",
              "      <th>mean_train_score</th>\n",
              "      <th>std_train_score</th>\n",
              "    </tr>\n",
              "  </thead>\n",
              "  <tbody>\n",
              "    <tr>\n",
              "      <th>0</th>\n",
              "      <td>0.010856</td>\n",
              "      <td>0.001304</td>\n",
              "      <td>0.008226</td>\n",
              "      <td>0.001357</td>\n",
              "      <td>1</td>\n",
              "      <td>{'max_depth': 1}</td>\n",
              "      <td>-53.759498</td>\n",
              "      <td>-53.643303</td>\n",
              "      <td>-54.763159</td>\n",
              "      <td>-50.052597</td>\n",
              "      <td>...</td>\n",
              "      <td>-54.148687</td>\n",
              "      <td>2.709740</td>\n",
              "      <td>6</td>\n",
              "      <td>-46.206236</td>\n",
              "      <td>-46.096082</td>\n",
              "      <td>-47.995977</td>\n",
              "      <td>-47.160014</td>\n",
              "      <td>-45.758332</td>\n",
              "      <td>-46.643328</td>\n",
              "      <td>0.821020</td>\n",
              "    </tr>\n",
              "    <tr>\n",
              "      <th>1</th>\n",
              "      <td>0.013897</td>\n",
              "      <td>0.000939</td>\n",
              "      <td>0.006284</td>\n",
              "      <td>0.000793</td>\n",
              "      <td>5</td>\n",
              "      <td>{'max_depth': 5}</td>\n",
              "      <td>-21.867135</td>\n",
              "      <td>-13.091787</td>\n",
              "      <td>-41.149978</td>\n",
              "      <td>-26.833178</td>\n",
              "      <td>...</td>\n",
              "      <td>-22.418814</td>\n",
              "      <td>11.257437</td>\n",
              "      <td>5</td>\n",
              "      <td>-5.892778</td>\n",
              "      <td>-5.984359</td>\n",
              "      <td>-6.654910</td>\n",
              "      <td>-6.004573</td>\n",
              "      <td>-6.591695</td>\n",
              "      <td>-6.225663</td>\n",
              "      <td>0.327461</td>\n",
              "    </tr>\n",
              "    <tr>\n",
              "      <th>2</th>\n",
              "      <td>0.019006</td>\n",
              "      <td>0.012095</td>\n",
              "      <td>0.004734</td>\n",
              "      <td>0.001498</td>\n",
              "      <td>10</td>\n",
              "      <td>{'max_depth': 10}</td>\n",
              "      <td>-15.765529</td>\n",
              "      <td>-9.595335</td>\n",
              "      <td>-33.702384</td>\n",
              "      <td>-28.110337</td>\n",
              "      <td>...</td>\n",
              "      <td>-20.260992</td>\n",
              "      <td>9.097482</td>\n",
              "      <td>1</td>\n",
              "      <td>-0.690366</td>\n",
              "      <td>-0.872620</td>\n",
              "      <td>-0.822489</td>\n",
              "      <td>-0.645129</td>\n",
              "      <td>-0.770788</td>\n",
              "      <td>-0.760278</td>\n",
              "      <td>0.083365</td>\n",
              "    </tr>\n",
              "    <tr>\n",
              "      <th>3</th>\n",
              "      <td>0.009567</td>\n",
              "      <td>0.001660</td>\n",
              "      <td>0.028775</td>\n",
              "      <td>0.052142</td>\n",
              "      <td>15</td>\n",
              "      <td>{'max_depth': 15}</td>\n",
              "      <td>-17.226299</td>\n",
              "      <td>-10.804439</td>\n",
              "      <td>-41.620727</td>\n",
              "      <td>-26.729737</td>\n",
              "      <td>...</td>\n",
              "      <td>-21.940287</td>\n",
              "      <td>11.232032</td>\n",
              "      <td>2</td>\n",
              "      <td>-0.003067</td>\n",
              "      <td>-0.015552</td>\n",
              "      <td>-0.035770</td>\n",
              "      <td>-0.014666</td>\n",
              "      <td>-0.028667</td>\n",
              "      <td>-0.019544</td>\n",
              "      <td>0.011469</td>\n",
              "    </tr>\n",
              "    <tr>\n",
              "      <th>4</th>\n",
              "      <td>0.013542</td>\n",
              "      <td>0.000375</td>\n",
              "      <td>0.004564</td>\n",
              "      <td>0.000494</td>\n",
              "      <td>20</td>\n",
              "      <td>{'max_depth': 20}</td>\n",
              "      <td>-24.027632</td>\n",
              "      <td>-10.451842</td>\n",
              "      <td>-32.604375</td>\n",
              "      <td>-28.050921</td>\n",
              "      <td>...</td>\n",
              "      <td>-22.335354</td>\n",
              "      <td>7.946888</td>\n",
              "      <td>4</td>\n",
              "      <td>-0.000000</td>\n",
              "      <td>-0.000000</td>\n",
              "      <td>-0.000017</td>\n",
              "      <td>-0.000000</td>\n",
              "      <td>-0.000000</td>\n",
              "      <td>-0.000003</td>\n",
              "      <td>0.000007</td>\n",
              "    </tr>\n",
              "    <tr>\n",
              "      <th>5</th>\n",
              "      <td>0.010996</td>\n",
              "      <td>0.000634</td>\n",
              "      <td>0.004156</td>\n",
              "      <td>0.000709</td>\n",
              "      <td>25</td>\n",
              "      <td>{'max_depth': 25}</td>\n",
              "      <td>-23.312895</td>\n",
              "      <td>-9.191053</td>\n",
              "      <td>-35.557895</td>\n",
              "      <td>-26.343026</td>\n",
              "      <td>...</td>\n",
              "      <td>-22.243907</td>\n",
              "      <td>8.888886</td>\n",
              "      <td>3</td>\n",
              "      <td>-0.000000</td>\n",
              "      <td>-0.000000</td>\n",
              "      <td>-0.000000</td>\n",
              "      <td>-0.000000</td>\n",
              "      <td>-0.000000</td>\n",
              "      <td>0.000000</td>\n",
              "      <td>0.000000</td>\n",
              "    </tr>\n",
              "  </tbody>\n",
              "</table>\n",
              "<p>6 rows × 21 columns</p>\n",
              "</div>"
            ],
            "text/plain": [
              "   mean_fit_time  std_fit_time  mean_score_time  std_score_time  \\\n",
              "0       0.010856      0.001304         0.008226        0.001357   \n",
              "1       0.013897      0.000939         0.006284        0.000793   \n",
              "2       0.019006      0.012095         0.004734        0.001498   \n",
              "3       0.009567      0.001660         0.028775        0.052142   \n",
              "4       0.013542      0.000375         0.004564        0.000494   \n",
              "5       0.010996      0.000634         0.004156        0.000709   \n",
              "\n",
              "  param_max_depth             params  split0_test_score  split1_test_score  \\\n",
              "0               1   {'max_depth': 1}         -53.759498         -53.643303   \n",
              "1               5   {'max_depth': 5}         -21.867135         -13.091787   \n",
              "2              10  {'max_depth': 10}         -15.765529          -9.595335   \n",
              "3              15  {'max_depth': 15}         -17.226299         -10.804439   \n",
              "4              20  {'max_depth': 20}         -24.027632         -10.451842   \n",
              "5              25  {'max_depth': 25}         -23.312895          -9.191053   \n",
              "\n",
              "   split2_test_score  split3_test_score  ...  mean_test_score  std_test_score  \\\n",
              "0         -54.763159         -50.052597  ...       -54.148687        2.709740   \n",
              "1         -41.149978         -26.833178  ...       -22.418814       11.257437   \n",
              "2         -33.702384         -28.110337  ...       -20.260992        9.097482   \n",
              "3         -41.620727         -26.729737  ...       -21.940287       11.232032   \n",
              "4         -32.604375         -28.050921  ...       -22.335354        7.946888   \n",
              "5         -35.557895         -26.343026  ...       -22.243907        8.888886   \n",
              "\n",
              "   rank_test_score  split0_train_score  split1_train_score  \\\n",
              "0                6          -46.206236          -46.096082   \n",
              "1                5           -5.892778           -5.984359   \n",
              "2                1           -0.690366           -0.872620   \n",
              "3                2           -0.003067           -0.015552   \n",
              "4                4           -0.000000           -0.000000   \n",
              "5                3           -0.000000           -0.000000   \n",
              "\n",
              "   split2_train_score  split3_train_score  split4_train_score  \\\n",
              "0          -47.995977          -47.160014          -45.758332   \n",
              "1           -6.654910           -6.004573           -6.591695   \n",
              "2           -0.822489           -0.645129           -0.770788   \n",
              "3           -0.035770           -0.014666           -0.028667   \n",
              "4           -0.000017           -0.000000           -0.000000   \n",
              "5           -0.000000           -0.000000           -0.000000   \n",
              "\n",
              "   mean_train_score  std_train_score  \n",
              "0        -46.643328         0.821020  \n",
              "1         -6.225663         0.327461  \n",
              "2         -0.760278         0.083365  \n",
              "3         -0.019544         0.011469  \n",
              "4         -0.000003         0.000007  \n",
              "5          0.000000         0.000000  \n",
              "\n",
              "[6 rows x 21 columns]"
            ]
          },
          "execution_count": 17,
          "metadata": {},
          "output_type": "execute_result"
        }
      ],
      "source": [
        "pd.DataFrame(gs_dtr.cv_results_)"
      ]
    },
    {
      "cell_type": "code",
      "execution_count": 18,
      "metadata": {
        "colab": {
          "base_uri": "https://localhost:8080/"
        },
        "id": "vDhgYejZO-el",
        "outputId": "0a756ca6-5bc8-472c-abc8-e988b6b87c6a"
      },
      "outputs": [
        {
          "data": {
            "text/plain": [
              "DecisionTreeRegressor(max_depth=10)"
            ]
          },
          "execution_count": 18,
          "metadata": {},
          "output_type": "execute_result"
        }
      ],
      "source": [
        "gs_dtr.best_estimator_"
      ]
    },
    {
      "cell_type": "code",
      "execution_count": 19,
      "metadata": {
        "id": "-2Qjj4YZQdZF"
      },
      "outputs": [],
      "source": [
        "y_pred = gs_dtr.predict(X_test)"
      ]
    },
    {
      "cell_type": "code",
      "execution_count": 20,
      "metadata": {
        "colab": {
          "base_uri": "https://localhost:8080/"
        },
        "id": "PVML4Fg-QdhF",
        "outputId": "b196c210-7f46-47b9-d239-edaec92f80cd"
      },
      "outputs": [
        {
          "data": {
            "text/plain": [
              "0.1429091537200741"
            ]
          },
          "execution_count": 20,
          "metadata": {},
          "output_type": "execute_result"
        }
      ],
      "source": [
        "mean_absolute_percentage_error(y_test,y_pred)"
      ]
    },
    {
      "cell_type": "code",
      "execution_count": 21,
      "metadata": {
        "id": "jjBz8cbiOvxx"
      },
      "outputs": [],
      "source": [
        "rs_dtr = RandomizedSearchCV(estimator=dtr, param_distributions=params, cv=5, scoring='neg_mean_squared_error',return_train_score=True, verbose=1)"
      ]
    },
    {
      "cell_type": "code",
      "execution_count": 22,
      "metadata": {
        "colab": {
          "base_uri": "https://localhost:8080/"
        },
        "id": "afXCrt5gOv11",
        "outputId": "cc81edd7-9e7e-4ec7-a625-ff9e272a9e11"
      },
      "outputs": [
        {
          "name": "stderr",
          "output_type": "stream",
          "text": [
            "c:\\Users\\DELL\\AppData\\Local\\Programs\\Python\\Python39\\lib\\site-packages\\sklearn\\model_selection\\_search.py:292: UserWarning: The total space of parameters 6 is smaller than n_iter=10. Running 6 iterations. For exhaustive searches, use GridSearchCV.\n",
            "  warnings.warn(\n"
          ]
        },
        {
          "name": "stdout",
          "output_type": "stream",
          "text": [
            "Fitting 5 folds for each of 6 candidates, totalling 30 fits\n"
          ]
        },
        {
          "data": {
            "text/plain": [
              "RandomizedSearchCV(cv=5, estimator=DecisionTreeRegressor(),\n",
              "                   param_distributions={'max_depth': [1, 5, 10, 15, 20, 25]},\n",
              "                   return_train_score=True, scoring='neg_mean_squared_error',\n",
              "                   verbose=1)"
            ]
          },
          "execution_count": 22,
          "metadata": {},
          "output_type": "execute_result"
        }
      ],
      "source": [
        "rs_dtr.fit(X_train,y_train)"
      ]
    },
    {
      "cell_type": "code",
      "execution_count": 23,
      "metadata": {
        "id": "mLTKltyISt8t"
      },
      "outputs": [
        {
          "data": {
            "text/html": [
              "<div>\n",
              "<style scoped>\n",
              "    .dataframe tbody tr th:only-of-type {\n",
              "        vertical-align: middle;\n",
              "    }\n",
              "\n",
              "    .dataframe tbody tr th {\n",
              "        vertical-align: top;\n",
              "    }\n",
              "\n",
              "    .dataframe thead th {\n",
              "        text-align: right;\n",
              "    }\n",
              "</style>\n",
              "<table border=\"1\" class=\"dataframe\">\n",
              "  <thead>\n",
              "    <tr style=\"text-align: right;\">\n",
              "      <th></th>\n",
              "      <th>mean_fit_time</th>\n",
              "      <th>std_fit_time</th>\n",
              "      <th>mean_score_time</th>\n",
              "      <th>std_score_time</th>\n",
              "      <th>param_max_depth</th>\n",
              "      <th>params</th>\n",
              "      <th>split0_test_score</th>\n",
              "      <th>split1_test_score</th>\n",
              "      <th>split2_test_score</th>\n",
              "      <th>split3_test_score</th>\n",
              "      <th>...</th>\n",
              "      <th>mean_test_score</th>\n",
              "      <th>std_test_score</th>\n",
              "      <th>rank_test_score</th>\n",
              "      <th>split0_train_score</th>\n",
              "      <th>split1_train_score</th>\n",
              "      <th>split2_train_score</th>\n",
              "      <th>split3_train_score</th>\n",
              "      <th>split4_train_score</th>\n",
              "      <th>mean_train_score</th>\n",
              "      <th>std_train_score</th>\n",
              "    </tr>\n",
              "  </thead>\n",
              "  <tbody>\n",
              "    <tr>\n",
              "      <th>0</th>\n",
              "      <td>0.008221</td>\n",
              "      <td>0.002576</td>\n",
              "      <td>0.003854</td>\n",
              "      <td>0.000294</td>\n",
              "      <td>1</td>\n",
              "      <td>{'max_depth': 1}</td>\n",
              "      <td>-53.759498</td>\n",
              "      <td>-53.643303</td>\n",
              "      <td>-54.763159</td>\n",
              "      <td>-50.052597</td>\n",
              "      <td>...</td>\n",
              "      <td>-54.148687</td>\n",
              "      <td>2.709740</td>\n",
              "      <td>6</td>\n",
              "      <td>-46.206236</td>\n",
              "      <td>-46.096082</td>\n",
              "      <td>-47.995977</td>\n",
              "      <td>-47.160014</td>\n",
              "      <td>-45.758332</td>\n",
              "      <td>-46.643328</td>\n",
              "      <td>0.821020</td>\n",
              "    </tr>\n",
              "    <tr>\n",
              "      <th>1</th>\n",
              "      <td>0.006301</td>\n",
              "      <td>0.001223</td>\n",
              "      <td>0.003460</td>\n",
              "      <td>0.001199</td>\n",
              "      <td>5</td>\n",
              "      <td>{'max_depth': 5}</td>\n",
              "      <td>-13.434273</td>\n",
              "      <td>-13.091787</td>\n",
              "      <td>-32.528926</td>\n",
              "      <td>-27.455401</td>\n",
              "      <td>...</td>\n",
              "      <td>-19.132476</td>\n",
              "      <td>9.135704</td>\n",
              "      <td>1</td>\n",
              "      <td>-5.892778</td>\n",
              "      <td>-5.984359</td>\n",
              "      <td>-6.654910</td>\n",
              "      <td>-6.004573</td>\n",
              "      <td>-6.591695</td>\n",
              "      <td>-6.225663</td>\n",
              "      <td>0.327461</td>\n",
              "    </tr>\n",
              "    <tr>\n",
              "      <th>2</th>\n",
              "      <td>0.007383</td>\n",
              "      <td>0.001001</td>\n",
              "      <td>0.002874</td>\n",
              "      <td>0.000409</td>\n",
              "      <td>10</td>\n",
              "      <td>{'max_depth': 10}</td>\n",
              "      <td>-15.791559</td>\n",
              "      <td>-10.262966</td>\n",
              "      <td>-40.612022</td>\n",
              "      <td>-25.331361</td>\n",
              "      <td>...</td>\n",
              "      <td>-21.290404</td>\n",
              "      <td>10.846482</td>\n",
              "      <td>2</td>\n",
              "      <td>-0.690366</td>\n",
              "      <td>-0.872620</td>\n",
              "      <td>-0.822489</td>\n",
              "      <td>-0.645129</td>\n",
              "      <td>-0.770788</td>\n",
              "      <td>-0.760278</td>\n",
              "      <td>0.083365</td>\n",
              "    </tr>\n",
              "    <tr>\n",
              "      <th>3</th>\n",
              "      <td>0.008675</td>\n",
              "      <td>0.001836</td>\n",
              "      <td>0.003837</td>\n",
              "      <td>0.001867</td>\n",
              "      <td>15</td>\n",
              "      <td>{'max_depth': 15}</td>\n",
              "      <td>-24.964984</td>\n",
              "      <td>-9.887465</td>\n",
              "      <td>-34.454543</td>\n",
              "      <td>-27.505541</td>\n",
              "      <td>...</td>\n",
              "      <td>-21.987866</td>\n",
              "      <td>9.161487</td>\n",
              "      <td>4</td>\n",
              "      <td>-0.003067</td>\n",
              "      <td>-0.015552</td>\n",
              "      <td>-0.035770</td>\n",
              "      <td>-0.014666</td>\n",
              "      <td>-0.028667</td>\n",
              "      <td>-0.019544</td>\n",
              "      <td>0.011469</td>\n",
              "    </tr>\n",
              "    <tr>\n",
              "      <th>4</th>\n",
              "      <td>0.010068</td>\n",
              "      <td>0.000944</td>\n",
              "      <td>0.003305</td>\n",
              "      <td>0.000408</td>\n",
              "      <td>20</td>\n",
              "      <td>{'max_depth': 20}</td>\n",
              "      <td>-24.208947</td>\n",
              "      <td>-9.847500</td>\n",
              "      <td>-34.355559</td>\n",
              "      <td>-26.642368</td>\n",
              "      <td>...</td>\n",
              "      <td>-21.793835</td>\n",
              "      <td>8.853610</td>\n",
              "      <td>3</td>\n",
              "      <td>-0.000000</td>\n",
              "      <td>-0.000000</td>\n",
              "      <td>-0.000017</td>\n",
              "      <td>-0.000000</td>\n",
              "      <td>-0.000000</td>\n",
              "      <td>-0.000003</td>\n",
              "      <td>0.000007</td>\n",
              "    </tr>\n",
              "    <tr>\n",
              "      <th>5</th>\n",
              "      <td>0.010092</td>\n",
              "      <td>0.001028</td>\n",
              "      <td>0.003565</td>\n",
              "      <td>0.000580</td>\n",
              "      <td>25</td>\n",
              "      <td>{'max_depth': 25}</td>\n",
              "      <td>-23.474342</td>\n",
              "      <td>-9.766447</td>\n",
              "      <td>-40.757368</td>\n",
              "      <td>-28.630658</td>\n",
              "      <td>...</td>\n",
              "      <td>-23.478883</td>\n",
              "      <td>10.853931</td>\n",
              "      <td>5</td>\n",
              "      <td>-0.000000</td>\n",
              "      <td>-0.000000</td>\n",
              "      <td>-0.000000</td>\n",
              "      <td>-0.000000</td>\n",
              "      <td>-0.000000</td>\n",
              "      <td>0.000000</td>\n",
              "      <td>0.000000</td>\n",
              "    </tr>\n",
              "  </tbody>\n",
              "</table>\n",
              "<p>6 rows × 21 columns</p>\n",
              "</div>"
            ],
            "text/plain": [
              "   mean_fit_time  std_fit_time  mean_score_time  std_score_time  \\\n",
              "0       0.008221      0.002576         0.003854        0.000294   \n",
              "1       0.006301      0.001223         0.003460        0.001199   \n",
              "2       0.007383      0.001001         0.002874        0.000409   \n",
              "3       0.008675      0.001836         0.003837        0.001867   \n",
              "4       0.010068      0.000944         0.003305        0.000408   \n",
              "5       0.010092      0.001028         0.003565        0.000580   \n",
              "\n",
              "  param_max_depth             params  split0_test_score  split1_test_score  \\\n",
              "0               1   {'max_depth': 1}         -53.759498         -53.643303   \n",
              "1               5   {'max_depth': 5}         -13.434273         -13.091787   \n",
              "2              10  {'max_depth': 10}         -15.791559         -10.262966   \n",
              "3              15  {'max_depth': 15}         -24.964984          -9.887465   \n",
              "4              20  {'max_depth': 20}         -24.208947          -9.847500   \n",
              "5              25  {'max_depth': 25}         -23.474342          -9.766447   \n",
              "\n",
              "   split2_test_score  split3_test_score  ...  mean_test_score  std_test_score  \\\n",
              "0         -54.763159         -50.052597  ...       -54.148687        2.709740   \n",
              "1         -32.528926         -27.455401  ...       -19.132476        9.135704   \n",
              "2         -40.612022         -25.331361  ...       -21.290404       10.846482   \n",
              "3         -34.454543         -27.505541  ...       -21.987866        9.161487   \n",
              "4         -34.355559         -26.642368  ...       -21.793835        8.853610   \n",
              "5         -40.757368         -28.630658  ...       -23.478883       10.853931   \n",
              "\n",
              "   rank_test_score  split0_train_score  split1_train_score  \\\n",
              "0                6          -46.206236          -46.096082   \n",
              "1                1           -5.892778           -5.984359   \n",
              "2                2           -0.690366           -0.872620   \n",
              "3                4           -0.003067           -0.015552   \n",
              "4                3           -0.000000           -0.000000   \n",
              "5                5           -0.000000           -0.000000   \n",
              "\n",
              "   split2_train_score  split3_train_score  split4_train_score  \\\n",
              "0          -47.995977          -47.160014          -45.758332   \n",
              "1           -6.654910           -6.004573           -6.591695   \n",
              "2           -0.822489           -0.645129           -0.770788   \n",
              "3           -0.035770           -0.014666           -0.028667   \n",
              "4           -0.000017           -0.000000           -0.000000   \n",
              "5           -0.000000           -0.000000           -0.000000   \n",
              "\n",
              "   mean_train_score  std_train_score  \n",
              "0        -46.643328         0.821020  \n",
              "1         -6.225663         0.327461  \n",
              "2         -0.760278         0.083365  \n",
              "3         -0.019544         0.011469  \n",
              "4         -0.000003         0.000007  \n",
              "5          0.000000         0.000000  \n",
              "\n",
              "[6 rows x 21 columns]"
            ]
          },
          "execution_count": 23,
          "metadata": {},
          "output_type": "execute_result"
        }
      ],
      "source": [
        "pd.DataFrame(rs_dtr.cv_results_)"
      ]
    },
    {
      "cell_type": "code",
      "execution_count": 24,
      "metadata": {
        "colab": {
          "base_uri": "https://localhost:8080/"
        },
        "id": "20cFwyhCOv4V",
        "outputId": "b562d70d-e7c0-415d-c2a3-9d8d9ca10d8f"
      },
      "outputs": [
        {
          "data": {
            "text/plain": [
              "DecisionTreeRegressor(max_depth=5)"
            ]
          },
          "execution_count": 24,
          "metadata": {},
          "output_type": "execute_result"
        }
      ],
      "source": [
        "rs_dtr.best_estimator_"
      ]
    },
    {
      "cell_type": "code",
      "execution_count": 25,
      "metadata": {
        "id": "4n7A2B9OQSx2"
      },
      "outputs": [],
      "source": [
        "y_pred = rs_dtr.predict(X_test)"
      ]
    },
    {
      "cell_type": "code",
      "execution_count": 26,
      "metadata": {
        "colab": {
          "base_uri": "https://localhost:8080/"
        },
        "id": "-vrosQnTQW4z",
        "outputId": "1b80870e-28c6-4bd8-9839-9d30a9125d2a"
      },
      "outputs": [
        {
          "data": {
            "text/plain": [
              "0.14390737200679266"
            ]
          },
          "execution_count": 26,
          "metadata": {},
          "output_type": "execute_result"
        }
      ],
      "source": [
        "mean_absolute_percentage_error(y_test,y_pred)"
      ]
    },
    {
      "cell_type": "markdown",
      "metadata": {
        "id": "67pSbxBeOMA7"
      },
      "source": [
        "## **Random Forest**"
      ]
    },
    {
      "cell_type": "code",
      "execution_count": 27,
      "metadata": {
        "id": "qxKWsoMZLlzx"
      },
      "outputs": [],
      "source": [
        "from sklearn.ensemble import RandomForestRegressor"
      ]
    },
    {
      "cell_type": "code",
      "execution_count": 28,
      "metadata": {
        "id": "d99bn64kLl27"
      },
      "outputs": [],
      "source": [
        "rfr = RandomForestRegressor()"
      ]
    },
    {
      "cell_type": "code",
      "execution_count": 29,
      "metadata": {
        "colab": {
          "base_uri": "https://localhost:8080/"
        },
        "id": "GoNFRBxSLl6Z",
        "outputId": "b0ce2446-35b3-498e-bbe0-9d541e570ee0"
      },
      "outputs": [
        {
          "data": {
            "text/plain": [
              "RandomForestRegressor()"
            ]
          },
          "execution_count": 29,
          "metadata": {},
          "output_type": "execute_result"
        }
      ],
      "source": [
        "rfr.fit(X_train,y_train)"
      ]
    },
    {
      "cell_type": "code",
      "execution_count": 30,
      "metadata": {
        "id": "fUEtuTHRLl9u"
      },
      "outputs": [],
      "source": [
        "y_pred=rfr.predict(X_test)"
      ]
    },
    {
      "cell_type": "code",
      "execution_count": 31,
      "metadata": {
        "colab": {
          "base_uri": "https://localhost:8080/"
        },
        "id": "BSk-P6-BQBrE",
        "outputId": "adc5f1fc-da96-4c09-fc86-0e13527781a0"
      },
      "outputs": [
        {
          "data": {
            "text/plain": [
              "0.11695789382200422"
            ]
          },
          "execution_count": 31,
          "metadata": {},
          "output_type": "execute_result"
        }
      ],
      "source": [
        "mean_absolute_percentage_error(y_test,y_pred)"
      ]
    },
    {
      "cell_type": "code",
      "execution_count": 32,
      "metadata": {
        "id": "Sg7O1NJHSICE"
      },
      "outputs": [],
      "source": [
        "params = {'max_depth':[1,5,10,15,20,25]}"
      ]
    },
    {
      "cell_type": "code",
      "execution_count": 33,
      "metadata": {
        "id": "GEM9PzkvSICF"
      },
      "outputs": [],
      "source": [
        "gs_rfr = GridSearchCV(estimator=rfr, param_grid=params, cv=5, scoring='neg_mean_squared_error',return_train_score=True, verbose=1)"
      ]
    },
    {
      "cell_type": "code",
      "execution_count": 34,
      "metadata": {
        "colab": {
          "base_uri": "https://localhost:8080/"
        },
        "id": "jKq6rBCsSICF",
        "outputId": "b86d88b8-a300-442b-e2da-a878577593be"
      },
      "outputs": [
        {
          "name": "stdout",
          "output_type": "stream",
          "text": [
            "Fitting 5 folds for each of 6 candidates, totalling 30 fits\n"
          ]
        },
        {
          "data": {
            "text/plain": [
              "GridSearchCV(cv=5, estimator=RandomForestRegressor(),\n",
              "             param_grid={'max_depth': [1, 5, 10, 15, 20, 25]},\n",
              "             return_train_score=True, scoring='neg_mean_squared_error',\n",
              "             verbose=1)"
            ]
          },
          "execution_count": 34,
          "metadata": {},
          "output_type": "execute_result"
        }
      ],
      "source": [
        "gs_rfr.fit(X_train,y_train)"
      ]
    },
    {
      "cell_type": "code",
      "execution_count": 35,
      "metadata": {
        "colab": {
          "base_uri": "https://localhost:8080/",
          "height": 435
        },
        "id": "hfm9oxmvSICF",
        "outputId": "6964dd41-6c88-446b-ef47-214df833c05a"
      },
      "outputs": [
        {
          "data": {
            "text/html": [
              "<div>\n",
              "<style scoped>\n",
              "    .dataframe tbody tr th:only-of-type {\n",
              "        vertical-align: middle;\n",
              "    }\n",
              "\n",
              "    .dataframe tbody tr th {\n",
              "        vertical-align: top;\n",
              "    }\n",
              "\n",
              "    .dataframe thead th {\n",
              "        text-align: right;\n",
              "    }\n",
              "</style>\n",
              "<table border=\"1\" class=\"dataframe\">\n",
              "  <thead>\n",
              "    <tr style=\"text-align: right;\">\n",
              "      <th></th>\n",
              "      <th>mean_fit_time</th>\n",
              "      <th>std_fit_time</th>\n",
              "      <th>mean_score_time</th>\n",
              "      <th>std_score_time</th>\n",
              "      <th>param_max_depth</th>\n",
              "      <th>params</th>\n",
              "      <th>split0_test_score</th>\n",
              "      <th>split1_test_score</th>\n",
              "      <th>split2_test_score</th>\n",
              "      <th>split3_test_score</th>\n",
              "      <th>...</th>\n",
              "      <th>mean_test_score</th>\n",
              "      <th>std_test_score</th>\n",
              "      <th>rank_test_score</th>\n",
              "      <th>split0_train_score</th>\n",
              "      <th>split1_train_score</th>\n",
              "      <th>split2_train_score</th>\n",
              "      <th>split3_train_score</th>\n",
              "      <th>split4_train_score</th>\n",
              "      <th>mean_train_score</th>\n",
              "      <th>std_train_score</th>\n",
              "    </tr>\n",
              "  </thead>\n",
              "  <tbody>\n",
              "    <tr>\n",
              "      <th>0</th>\n",
              "      <td>0.356014</td>\n",
              "      <td>0.075097</td>\n",
              "      <td>0.028034</td>\n",
              "      <td>0.009061</td>\n",
              "      <td>1</td>\n",
              "      <td>{'max_depth': 1}</td>\n",
              "      <td>-42.624713</td>\n",
              "      <td>-36.623128</td>\n",
              "      <td>-32.710163</td>\n",
              "      <td>-39.642719</td>\n",
              "      <td>...</td>\n",
              "      <td>-39.527264</td>\n",
              "      <td>4.623262</td>\n",
              "      <td>6</td>\n",
              "      <td>-33.747249</td>\n",
              "      <td>-33.856156</td>\n",
              "      <td>-35.470137</td>\n",
              "      <td>-35.667720</td>\n",
              "      <td>-36.462576</td>\n",
              "      <td>-35.040768</td>\n",
              "      <td>1.065407</td>\n",
              "    </tr>\n",
              "    <tr>\n",
              "      <th>1</th>\n",
              "      <td>0.308872</td>\n",
              "      <td>0.006543</td>\n",
              "      <td>0.018133</td>\n",
              "      <td>0.000909</td>\n",
              "      <td>5</td>\n",
              "      <td>{'max_depth': 5}</td>\n",
              "      <td>-19.210190</td>\n",
              "      <td>-11.314033</td>\n",
              "      <td>-8.105436</td>\n",
              "      <td>-10.855270</td>\n",
              "      <td>...</td>\n",
              "      <td>-12.141998</td>\n",
              "      <td>3.726530</td>\n",
              "      <td>5</td>\n",
              "      <td>-4.457000</td>\n",
              "      <td>-4.928832</td>\n",
              "      <td>-4.624414</td>\n",
              "      <td>-5.174672</td>\n",
              "      <td>-5.246701</td>\n",
              "      <td>-4.886324</td>\n",
              "      <td>0.305856</td>\n",
              "    </tr>\n",
              "    <tr>\n",
              "      <th>2</th>\n",
              "      <td>0.397384</td>\n",
              "      <td>0.021534</td>\n",
              "      <td>0.018374</td>\n",
              "      <td>0.000834</td>\n",
              "      <td>10</td>\n",
              "      <td>{'max_depth': 10}</td>\n",
              "      <td>-17.060990</td>\n",
              "      <td>-9.746343</td>\n",
              "      <td>-7.457047</td>\n",
              "      <td>-11.132244</td>\n",
              "      <td>...</td>\n",
              "      <td>-11.096362</td>\n",
              "      <td>3.214583</td>\n",
              "      <td>2</td>\n",
              "      <td>-1.671490</td>\n",
              "      <td>-2.082540</td>\n",
              "      <td>-1.811941</td>\n",
              "      <td>-2.194968</td>\n",
              "      <td>-2.161013</td>\n",
              "      <td>-1.984391</td>\n",
              "      <td>0.206309</td>\n",
              "    </tr>\n",
              "    <tr>\n",
              "      <th>3</th>\n",
              "      <td>0.451207</td>\n",
              "      <td>0.055929</td>\n",
              "      <td>0.019745</td>\n",
              "      <td>0.002107</td>\n",
              "      <td>15</td>\n",
              "      <td>{'max_depth': 15}</td>\n",
              "      <td>-16.412288</td>\n",
              "      <td>-9.657318</td>\n",
              "      <td>-7.826164</td>\n",
              "      <td>-11.421465</td>\n",
              "      <td>...</td>\n",
              "      <td>-11.289675</td>\n",
              "      <td>2.861614</td>\n",
              "      <td>3</td>\n",
              "      <td>-1.750855</td>\n",
              "      <td>-2.273680</td>\n",
              "      <td>-1.404064</td>\n",
              "      <td>-1.993757</td>\n",
              "      <td>-2.034392</td>\n",
              "      <td>-1.891350</td>\n",
              "      <td>0.294724</td>\n",
              "    </tr>\n",
              "    <tr>\n",
              "      <th>4</th>\n",
              "      <td>0.476958</td>\n",
              "      <td>0.008999</td>\n",
              "      <td>0.022222</td>\n",
              "      <td>0.001334</td>\n",
              "      <td>20</td>\n",
              "      <td>{'max_depth': 20}</td>\n",
              "      <td>-17.994907</td>\n",
              "      <td>-9.655957</td>\n",
              "      <td>-7.728626</td>\n",
              "      <td>-10.286939</td>\n",
              "      <td>...</td>\n",
              "      <td>-11.310101</td>\n",
              "      <td>3.506512</td>\n",
              "      <td>4</td>\n",
              "      <td>-1.699020</td>\n",
              "      <td>-1.968661</td>\n",
              "      <td>-1.751006</td>\n",
              "      <td>-2.115703</td>\n",
              "      <td>-1.962108</td>\n",
              "      <td>-1.899299</td>\n",
              "      <td>0.153421</td>\n",
              "    </tr>\n",
              "    <tr>\n",
              "      <th>5</th>\n",
              "      <td>0.533870</td>\n",
              "      <td>0.027581</td>\n",
              "      <td>0.026017</td>\n",
              "      <td>0.004312</td>\n",
              "      <td>25</td>\n",
              "      <td>{'max_depth': 25}</td>\n",
              "      <td>-16.663657</td>\n",
              "      <td>-9.515543</td>\n",
              "      <td>-7.716819</td>\n",
              "      <td>-9.894848</td>\n",
              "      <td>...</td>\n",
              "      <td>-10.791700</td>\n",
              "      <td>3.058011</td>\n",
              "      <td>1</td>\n",
              "      <td>-1.625892</td>\n",
              "      <td>-1.954811</td>\n",
              "      <td>-1.748588</td>\n",
              "      <td>-1.858930</td>\n",
              "      <td>-2.041377</td>\n",
              "      <td>-1.845920</td>\n",
              "      <td>0.147048</td>\n",
              "    </tr>\n",
              "  </tbody>\n",
              "</table>\n",
              "<p>6 rows × 21 columns</p>\n",
              "</div>"
            ],
            "text/plain": [
              "   mean_fit_time  std_fit_time  mean_score_time  std_score_time  \\\n",
              "0       0.356014      0.075097         0.028034        0.009061   \n",
              "1       0.308872      0.006543         0.018133        0.000909   \n",
              "2       0.397384      0.021534         0.018374        0.000834   \n",
              "3       0.451207      0.055929         0.019745        0.002107   \n",
              "4       0.476958      0.008999         0.022222        0.001334   \n",
              "5       0.533870      0.027581         0.026017        0.004312   \n",
              "\n",
              "  param_max_depth             params  split0_test_score  split1_test_score  \\\n",
              "0               1   {'max_depth': 1}         -42.624713         -36.623128   \n",
              "1               5   {'max_depth': 5}         -19.210190         -11.314033   \n",
              "2              10  {'max_depth': 10}         -17.060990          -9.746343   \n",
              "3              15  {'max_depth': 15}         -16.412288          -9.657318   \n",
              "4              20  {'max_depth': 20}         -17.994907          -9.655957   \n",
              "5              25  {'max_depth': 25}         -16.663657          -9.515543   \n",
              "\n",
              "   split2_test_score  split3_test_score  ...  mean_test_score  std_test_score  \\\n",
              "0         -32.710163         -39.642719  ...       -39.527264        4.623262   \n",
              "1          -8.105436         -10.855270  ...       -12.141998        3.726530   \n",
              "2          -7.457047         -11.132244  ...       -11.096362        3.214583   \n",
              "3          -7.826164         -11.421465  ...       -11.289675        2.861614   \n",
              "4          -7.728626         -10.286939  ...       -11.310101        3.506512   \n",
              "5          -7.716819          -9.894848  ...       -10.791700        3.058011   \n",
              "\n",
              "   rank_test_score  split0_train_score  split1_train_score  \\\n",
              "0                6          -33.747249          -33.856156   \n",
              "1                5           -4.457000           -4.928832   \n",
              "2                2           -1.671490           -2.082540   \n",
              "3                3           -1.750855           -2.273680   \n",
              "4                4           -1.699020           -1.968661   \n",
              "5                1           -1.625892           -1.954811   \n",
              "\n",
              "   split2_train_score  split3_train_score  split4_train_score  \\\n",
              "0          -35.470137          -35.667720          -36.462576   \n",
              "1           -4.624414           -5.174672           -5.246701   \n",
              "2           -1.811941           -2.194968           -2.161013   \n",
              "3           -1.404064           -1.993757           -2.034392   \n",
              "4           -1.751006           -2.115703           -1.962108   \n",
              "5           -1.748588           -1.858930           -2.041377   \n",
              "\n",
              "   mean_train_score  std_train_score  \n",
              "0        -35.040768         1.065407  \n",
              "1         -4.886324         0.305856  \n",
              "2         -1.984391         0.206309  \n",
              "3         -1.891350         0.294724  \n",
              "4         -1.899299         0.153421  \n",
              "5         -1.845920         0.147048  \n",
              "\n",
              "[6 rows x 21 columns]"
            ]
          },
          "execution_count": 35,
          "metadata": {},
          "output_type": "execute_result"
        }
      ],
      "source": [
        "pd.DataFrame(gs_rfr.cv_results_)"
      ]
    },
    {
      "cell_type": "code",
      "execution_count": 36,
      "metadata": {
        "colab": {
          "base_uri": "https://localhost:8080/"
        },
        "id": "wHtRu6LPSICG",
        "outputId": "dd067a0a-7f2c-4b56-e2b5-224b8e67278f"
      },
      "outputs": [
        {
          "data": {
            "text/plain": [
              "RandomForestRegressor(max_depth=25)"
            ]
          },
          "execution_count": 36,
          "metadata": {},
          "output_type": "execute_result"
        }
      ],
      "source": [
        "gs_rfr.best_estimator_"
      ]
    },
    {
      "cell_type": "code",
      "execution_count": 37,
      "metadata": {
        "id": "onLIDC-mSICG"
      },
      "outputs": [],
      "source": [
        "y_pred = gs_rfr.predict(X_test)"
      ]
    },
    {
      "cell_type": "code",
      "execution_count": 38,
      "metadata": {
        "colab": {
          "base_uri": "https://localhost:8080/"
        },
        "id": "kmP85mbwSICG",
        "outputId": "c8e305d5-2c2a-4a81-819f-9bdcb8b5563f"
      },
      "outputs": [
        {
          "data": {
            "text/plain": [
              "0.1116952890120035"
            ]
          },
          "execution_count": 38,
          "metadata": {},
          "output_type": "execute_result"
        }
      ],
      "source": [
        "mean_absolute_percentage_error(y_test,y_pred)"
      ]
    },
    {
      "cell_type": "code",
      "execution_count": 39,
      "metadata": {
        "id": "jJVEBi4wSICG"
      },
      "outputs": [],
      "source": [
        "rs_rfr = RandomizedSearchCV(estimator=rfr, param_distributions=params, cv=5, scoring='neg_mean_squared_error',return_train_score=True, verbose=1)"
      ]
    },
    {
      "cell_type": "code",
      "execution_count": 40,
      "metadata": {
        "colab": {
          "base_uri": "https://localhost:8080/"
        },
        "id": "Qd58JbrpSICG",
        "outputId": "36693217-5f79-41e5-ee67-cb476d2d97ea"
      },
      "outputs": [
        {
          "name": "stderr",
          "output_type": "stream",
          "text": [
            "c:\\Users\\DELL\\AppData\\Local\\Programs\\Python\\Python39\\lib\\site-packages\\sklearn\\model_selection\\_search.py:292: UserWarning: The total space of parameters 6 is smaller than n_iter=10. Running 6 iterations. For exhaustive searches, use GridSearchCV.\n",
            "  warnings.warn(\n"
          ]
        },
        {
          "name": "stdout",
          "output_type": "stream",
          "text": [
            "Fitting 5 folds for each of 6 candidates, totalling 30 fits\n"
          ]
        },
        {
          "data": {
            "text/plain": [
              "RandomizedSearchCV(cv=5, estimator=RandomForestRegressor(),\n",
              "                   param_distributions={'max_depth': [1, 5, 10, 15, 20, 25]},\n",
              "                   return_train_score=True, scoring='neg_mean_squared_error',\n",
              "                   verbose=1)"
            ]
          },
          "execution_count": 40,
          "metadata": {},
          "output_type": "execute_result"
        }
      ],
      "source": [
        "rs_rfr.fit(X_train,y_train)"
      ]
    },
    {
      "cell_type": "code",
      "execution_count": 41,
      "metadata": {
        "colab": {
          "base_uri": "https://localhost:8080/",
          "height": 435
        },
        "id": "p9t4HQ5LS1i5",
        "outputId": "38bdbe47-175d-426d-f3e7-8aa9a2429f1b"
      },
      "outputs": [
        {
          "data": {
            "text/html": [
              "<div>\n",
              "<style scoped>\n",
              "    .dataframe tbody tr th:only-of-type {\n",
              "        vertical-align: middle;\n",
              "    }\n",
              "\n",
              "    .dataframe tbody tr th {\n",
              "        vertical-align: top;\n",
              "    }\n",
              "\n",
              "    .dataframe thead th {\n",
              "        text-align: right;\n",
              "    }\n",
              "</style>\n",
              "<table border=\"1\" class=\"dataframe\">\n",
              "  <thead>\n",
              "    <tr style=\"text-align: right;\">\n",
              "      <th></th>\n",
              "      <th>mean_fit_time</th>\n",
              "      <th>std_fit_time</th>\n",
              "      <th>mean_score_time</th>\n",
              "      <th>std_score_time</th>\n",
              "      <th>param_max_depth</th>\n",
              "      <th>params</th>\n",
              "      <th>split0_test_score</th>\n",
              "      <th>split1_test_score</th>\n",
              "      <th>split2_test_score</th>\n",
              "      <th>split3_test_score</th>\n",
              "      <th>...</th>\n",
              "      <th>mean_test_score</th>\n",
              "      <th>std_test_score</th>\n",
              "      <th>rank_test_score</th>\n",
              "      <th>split0_train_score</th>\n",
              "      <th>split1_train_score</th>\n",
              "      <th>split2_train_score</th>\n",
              "      <th>split3_train_score</th>\n",
              "      <th>split4_train_score</th>\n",
              "      <th>mean_train_score</th>\n",
              "      <th>std_train_score</th>\n",
              "    </tr>\n",
              "  </thead>\n",
              "  <tbody>\n",
              "    <tr>\n",
              "      <th>0</th>\n",
              "      <td>0.327897</td>\n",
              "      <td>0.038043</td>\n",
              "      <td>0.019877</td>\n",
              "      <td>0.001617</td>\n",
              "      <td>1</td>\n",
              "      <td>{'max_depth': 1}</td>\n",
              "      <td>-42.176404</td>\n",
              "      <td>-35.893821</td>\n",
              "      <td>-32.073685</td>\n",
              "      <td>-37.317240</td>\n",
              "      <td>...</td>\n",
              "      <td>-38.229096</td>\n",
              "      <td>4.231192</td>\n",
              "      <td>6</td>\n",
              "      <td>-32.934257</td>\n",
              "      <td>-33.871721</td>\n",
              "      <td>-35.014770</td>\n",
              "      <td>-34.061743</td>\n",
              "      <td>-35.306414</td>\n",
              "      <td>-34.237781</td>\n",
              "      <td>0.849689</td>\n",
              "    </tr>\n",
              "    <tr>\n",
              "      <th>1</th>\n",
              "      <td>0.360218</td>\n",
              "      <td>0.034658</td>\n",
              "      <td>0.021211</td>\n",
              "      <td>0.003220</td>\n",
              "      <td>5</td>\n",
              "      <td>{'max_depth': 5}</td>\n",
              "      <td>-16.838564</td>\n",
              "      <td>-11.837093</td>\n",
              "      <td>-8.756069</td>\n",
              "      <td>-12.333671</td>\n",
              "      <td>...</td>\n",
              "      <td>-12.209573</td>\n",
              "      <td>2.621752</td>\n",
              "      <td>5</td>\n",
              "      <td>-4.556344</td>\n",
              "      <td>-5.403978</td>\n",
              "      <td>-4.623928</td>\n",
              "      <td>-5.317867</td>\n",
              "      <td>-5.079785</td>\n",
              "      <td>-4.996381</td>\n",
              "      <td>0.348941</td>\n",
              "    </tr>\n",
              "    <tr>\n",
              "      <th>2</th>\n",
              "      <td>0.497931</td>\n",
              "      <td>0.101583</td>\n",
              "      <td>0.023108</td>\n",
              "      <td>0.005286</td>\n",
              "      <td>10</td>\n",
              "      <td>{'max_depth': 10}</td>\n",
              "      <td>-17.229127</td>\n",
              "      <td>-9.866857</td>\n",
              "      <td>-6.916984</td>\n",
              "      <td>-9.281868</td>\n",
              "      <td>...</td>\n",
              "      <td>-10.475720</td>\n",
              "      <td>3.521552</td>\n",
              "      <td>1</td>\n",
              "      <td>-1.839120</td>\n",
              "      <td>-2.096502</td>\n",
              "      <td>-1.875268</td>\n",
              "      <td>-2.149080</td>\n",
              "      <td>-1.922325</td>\n",
              "      <td>-1.976459</td>\n",
              "      <td>0.123483</td>\n",
              "    </tr>\n",
              "    <tr>\n",
              "      <th>3</th>\n",
              "      <td>0.492490</td>\n",
              "      <td>0.106321</td>\n",
              "      <td>0.021182</td>\n",
              "      <td>0.007492</td>\n",
              "      <td>15</td>\n",
              "      <td>{'max_depth': 15}</td>\n",
              "      <td>-17.768505</td>\n",
              "      <td>-9.168979</td>\n",
              "      <td>-7.964906</td>\n",
              "      <td>-10.212616</td>\n",
              "      <td>...</td>\n",
              "      <td>-11.296225</td>\n",
              "      <td>3.426145</td>\n",
              "      <td>3</td>\n",
              "      <td>-1.703432</td>\n",
              "      <td>-2.044844</td>\n",
              "      <td>-1.578659</td>\n",
              "      <td>-2.024869</td>\n",
              "      <td>-2.160972</td>\n",
              "      <td>-1.902555</td>\n",
              "      <td>0.222056</td>\n",
              "    </tr>\n",
              "    <tr>\n",
              "      <th>4</th>\n",
              "      <td>0.554078</td>\n",
              "      <td>0.028625</td>\n",
              "      <td>0.021632</td>\n",
              "      <td>0.001573</td>\n",
              "      <td>20</td>\n",
              "      <td>{'max_depth': 20}</td>\n",
              "      <td>-16.999508</td>\n",
              "      <td>-9.919193</td>\n",
              "      <td>-7.373324</td>\n",
              "      <td>-10.219238</td>\n",
              "      <td>...</td>\n",
              "      <td>-11.347086</td>\n",
              "      <td>3.219343</td>\n",
              "      <td>4</td>\n",
              "      <td>-1.676475</td>\n",
              "      <td>-2.198313</td>\n",
              "      <td>-1.634996</td>\n",
              "      <td>-1.917352</td>\n",
              "      <td>-2.208560</td>\n",
              "      <td>-1.927139</td>\n",
              "      <td>0.245361</td>\n",
              "    </tr>\n",
              "    <tr>\n",
              "      <th>5</th>\n",
              "      <td>0.442140</td>\n",
              "      <td>0.039611</td>\n",
              "      <td>0.019840</td>\n",
              "      <td>0.003784</td>\n",
              "      <td>25</td>\n",
              "      <td>{'max_depth': 25}</td>\n",
              "      <td>-16.028774</td>\n",
              "      <td>-9.904059</td>\n",
              "      <td>-7.101930</td>\n",
              "      <td>-11.778634</td>\n",
              "      <td>...</td>\n",
              "      <td>-11.253893</td>\n",
              "      <td>2.904361</td>\n",
              "      <td>2</td>\n",
              "      <td>-1.831145</td>\n",
              "      <td>-1.958506</td>\n",
              "      <td>-1.636914</td>\n",
              "      <td>-1.939889</td>\n",
              "      <td>-1.962714</td>\n",
              "      <td>-1.865834</td>\n",
              "      <td>0.124150</td>\n",
              "    </tr>\n",
              "  </tbody>\n",
              "</table>\n",
              "<p>6 rows × 21 columns</p>\n",
              "</div>"
            ],
            "text/plain": [
              "   mean_fit_time  std_fit_time  mean_score_time  std_score_time  \\\n",
              "0       0.327897      0.038043         0.019877        0.001617   \n",
              "1       0.360218      0.034658         0.021211        0.003220   \n",
              "2       0.497931      0.101583         0.023108        0.005286   \n",
              "3       0.492490      0.106321         0.021182        0.007492   \n",
              "4       0.554078      0.028625         0.021632        0.001573   \n",
              "5       0.442140      0.039611         0.019840        0.003784   \n",
              "\n",
              "  param_max_depth             params  split0_test_score  split1_test_score  \\\n",
              "0               1   {'max_depth': 1}         -42.176404         -35.893821   \n",
              "1               5   {'max_depth': 5}         -16.838564         -11.837093   \n",
              "2              10  {'max_depth': 10}         -17.229127          -9.866857   \n",
              "3              15  {'max_depth': 15}         -17.768505          -9.168979   \n",
              "4              20  {'max_depth': 20}         -16.999508          -9.919193   \n",
              "5              25  {'max_depth': 25}         -16.028774          -9.904059   \n",
              "\n",
              "   split2_test_score  split3_test_score  ...  mean_test_score  std_test_score  \\\n",
              "0         -32.073685         -37.317240  ...       -38.229096        4.231192   \n",
              "1          -8.756069         -12.333671  ...       -12.209573        2.621752   \n",
              "2          -6.916984          -9.281868  ...       -10.475720        3.521552   \n",
              "3          -7.964906         -10.212616  ...       -11.296225        3.426145   \n",
              "4          -7.373324         -10.219238  ...       -11.347086        3.219343   \n",
              "5          -7.101930         -11.778634  ...       -11.253893        2.904361   \n",
              "\n",
              "   rank_test_score  split0_train_score  split1_train_score  \\\n",
              "0                6          -32.934257          -33.871721   \n",
              "1                5           -4.556344           -5.403978   \n",
              "2                1           -1.839120           -2.096502   \n",
              "3                3           -1.703432           -2.044844   \n",
              "4                4           -1.676475           -2.198313   \n",
              "5                2           -1.831145           -1.958506   \n",
              "\n",
              "   split2_train_score  split3_train_score  split4_train_score  \\\n",
              "0          -35.014770          -34.061743          -35.306414   \n",
              "1           -4.623928           -5.317867           -5.079785   \n",
              "2           -1.875268           -2.149080           -1.922325   \n",
              "3           -1.578659           -2.024869           -2.160972   \n",
              "4           -1.634996           -1.917352           -2.208560   \n",
              "5           -1.636914           -1.939889           -1.962714   \n",
              "\n",
              "   mean_train_score  std_train_score  \n",
              "0        -34.237781         0.849689  \n",
              "1         -4.996381         0.348941  \n",
              "2         -1.976459         0.123483  \n",
              "3         -1.902555         0.222056  \n",
              "4         -1.927139         0.245361  \n",
              "5         -1.865834         0.124150  \n",
              "\n",
              "[6 rows x 21 columns]"
            ]
          },
          "execution_count": 41,
          "metadata": {},
          "output_type": "execute_result"
        }
      ],
      "source": [
        "pd.DataFrame(rs_rfr.cv_results_)"
      ]
    },
    {
      "cell_type": "code",
      "execution_count": 42,
      "metadata": {
        "colab": {
          "base_uri": "https://localhost:8080/"
        },
        "id": "BZ2vJMhHSICH",
        "outputId": "6a831bc0-034c-4894-9855-75c22b69f180"
      },
      "outputs": [
        {
          "data": {
            "text/plain": [
              "RandomForestRegressor(max_depth=10)"
            ]
          },
          "execution_count": 42,
          "metadata": {},
          "output_type": "execute_result"
        }
      ],
      "source": [
        "rs_rfr.best_estimator_"
      ]
    },
    {
      "cell_type": "code",
      "execution_count": 43,
      "metadata": {
        "id": "k3zthnZ6SICH"
      },
      "outputs": [],
      "source": [
        "y_pred = rs_rfr.predict(X_test)"
      ]
    },
    {
      "cell_type": "code",
      "execution_count": 44,
      "metadata": {
        "colab": {
          "base_uri": "https://localhost:8080/"
        },
        "id": "ffs2a2SnSICH",
        "outputId": "c0f71078-17de-42f2-e5d6-d9d8f050a25e"
      },
      "outputs": [
        {
          "data": {
            "text/plain": [
              "0.1183627009153582"
            ]
          },
          "execution_count": 44,
          "metadata": {},
          "output_type": "execute_result"
        }
      ],
      "source": [
        "mean_absolute_percentage_error(y_test,y_pred)"
      ]
    },
    {
      "cell_type": "markdown",
      "metadata": {
        "id": "ngkKkTGZS5U9"
      },
      "source": [
        "## **XGBoost**"
      ]
    },
    {
      "cell_type": "code",
      "execution_count": 46,
      "metadata": {
        "id": "zM35bpVK3YuV"
      },
      "outputs": [],
      "source": [
        "import xgboost as xgb"
      ]
    },
    {
      "cell_type": "code",
      "execution_count": 47,
      "metadata": {
        "id": "P6NSx2cdUbp2"
      },
      "outputs": [],
      "source": [
        "from xgboost import XGBRegressor"
      ]
    },
    {
      "cell_type": "code",
      "execution_count": 48,
      "metadata": {
        "id": "uE5mkSFTUGWS"
      },
      "outputs": [],
      "source": [
        "xgb = XGBRegressor(n_estimators=1000, max_depth=7)"
      ]
    },
    {
      "cell_type": "code",
      "execution_count": 49,
      "metadata": {
        "colab": {
          "base_uri": "https://localhost:8080/"
        },
        "id": "UDdkQPmYUnu5",
        "outputId": "863ef9d8-1f75-4c87-fd7f-6fbb238cd40d"
      },
      "outputs": [
        {
          "data": {
            "text/plain": [
              "XGBRegressor(base_score=0.5, booster='gbtree', callbacks=None,\n",
              "             colsample_bylevel=1, colsample_bynode=1, colsample_bytree=1,\n",
              "             early_stopping_rounds=None, enable_categorical=False,\n",
              "             eval_metric=None, gamma=0, gpu_id=-1, grow_policy='depthwise',\n",
              "             importance_type=None, interaction_constraints='',\n",
              "             learning_rate=0.300000012, max_bin=256, max_cat_to_onehot=4,\n",
              "             max_delta_step=0, max_depth=7, max_leaves=0, min_child_weight=1,\n",
              "             missing=nan, monotone_constraints='()', n_estimators=1000,\n",
              "             n_jobs=0, num_parallel_tree=1, predictor='auto', random_state=0,\n",
              "             reg_alpha=0, reg_lambda=1, ...)"
            ]
          },
          "execution_count": 49,
          "metadata": {},
          "output_type": "execute_result"
        }
      ],
      "source": [
        "xgb.fit(X_train,y_train)"
      ]
    },
    {
      "cell_type": "code",
      "execution_count": 50,
      "metadata": {
        "id": "kaIj05XGYKXL"
      },
      "outputs": [
        {
          "ename": "AttributeError",
          "evalue": "'XGBRegressor' object has no attribute 'plot_importance'",
          "output_type": "error",
          "traceback": [
            "\u001b[1;31m---------------------------------------------------------------------------\u001b[0m",
            "\u001b[1;31mAttributeError\u001b[0m                            Traceback (most recent call last)",
            "Cell \u001b[1;32mIn [50], line 1\u001b[0m\n\u001b[1;32m----> 1\u001b[0m xgb\u001b[39m.\u001b[39mplot_importance(xgb)\n",
            "\u001b[1;31mAttributeError\u001b[0m: 'XGBRegressor' object has no attribute 'plot_importance'"
          ]
        }
      ],
      "source": [
        "xgb.plot_importance(xgb)"
      ]
    },
    {
      "cell_type": "code",
      "execution_count": null,
      "metadata": {
        "id": "XtNxbfqPUnyp"
      },
      "outputs": [],
      "source": [
        "y_pred = xgb.predict(X_test)"
      ]
    },
    {
      "cell_type": "code",
      "execution_count": null,
      "metadata": {
        "colab": {
          "base_uri": "https://localhost:8080/"
        },
        "id": "HZpn8Oj6Un15",
        "outputId": "ad186538-7e39-4b00-a817-304322432d0d"
      },
      "outputs": [
        {
          "data": {
            "text/plain": [
              "0.11413681392794102"
            ]
          },
          "execution_count": 102,
          "metadata": {},
          "output_type": "execute_result"
        }
      ],
      "source": [
        "mean_absolute_percentage_error(y_test,y_pred)"
      ]
    },
    {
      "cell_type": "code",
      "execution_count": null,
      "metadata": {
        "id": "XgrhjWS73Z-R"
      },
      "outputs": [],
      "source": [
        "from sklearn.ensemble import GradientBoostingRegressor"
      ]
    },
    {
      "cell_type": "code",
      "execution_count": null,
      "metadata": {
        "id": "99fGhpejUj4N"
      },
      "outputs": [],
      "source": [
        "gbr = GradientBoostingRegressor()"
      ]
    },
    {
      "cell_type": "code",
      "execution_count": null,
      "metadata": {
        "colab": {
          "base_uri": "https://localhost:8080/"
        },
        "id": "9EG3Pm81WddZ",
        "outputId": "04146afa-5bf9-42e0-ae36-d5cce5fa29de"
      },
      "outputs": [
        {
          "data": {
            "text/plain": [
              "GradientBoostingRegressor()"
            ]
          },
          "execution_count": 106,
          "metadata": {},
          "output_type": "execute_result"
        }
      ],
      "source": [
        "gbr.fit(X_train,y_train)"
      ]
    },
    {
      "cell_type": "code",
      "execution_count": null,
      "metadata": {
        "id": "M3yXvPjmWdda"
      },
      "outputs": [],
      "source": [
        "y_pred = gbr.predict(X_test)"
      ]
    },
    {
      "cell_type": "code",
      "execution_count": null,
      "metadata": {
        "colab": {
          "base_uri": "https://localhost:8080/"
        },
        "id": "p-gr_JlYWdda",
        "outputId": "e1819bf9-2567-49a1-f698-7870e30293e2"
      },
      "outputs": [
        {
          "data": {
            "text/plain": [
              "0.12460032718090133"
            ]
          },
          "execution_count": 108,
          "metadata": {},
          "output_type": "execute_result"
        }
      ],
      "source": [
        "mean_absolute_percentage_error(y_test,y_pred)"
      ]
    },
    {
      "cell_type": "code",
      "execution_count": null,
      "metadata": {
        "id": "BqUNVQrsUkBx"
      },
      "outputs": [],
      "source": []
    },
    {
      "cell_type": "code",
      "execution_count": null,
      "metadata": {
        "id": "frGCp3A_UkFt"
      },
      "outputs": [],
      "source": []
    }
  ],
  "metadata": {
    "colab": {
      "collapsed_sections": [],
      "provenance": []
    },
    "kernelspec": {
      "display_name": "Python 3.9.5 64-bit",
      "language": "python",
      "name": "python3"
    },
    "language_info": {
      "codemirror_mode": {
        "name": "ipython",
        "version": 3
      },
      "file_extension": ".py",
      "mimetype": "text/x-python",
      "name": "python",
      "nbconvert_exporter": "python",
      "pygments_lexer": "ipython3",
      "version": "3.9.5"
    },
    "vscode": {
      "interpreter": {
        "hash": "5addf786bcd861d1ce5006f23111f8cbb206731e5b61b0a5632ba9e0252558a8"
      }
    }
  },
  "nbformat": 4,
  "nbformat_minor": 0
}
